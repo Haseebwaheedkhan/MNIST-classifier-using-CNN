{
 "cells": [
  {
   "cell_type": "code",
   "execution_count": 5,
   "id": "6dfc4dbb",
   "metadata": {},
   "outputs": [],
   "source": [
    "#Importing Libraries\n",
    "from torchvision import datasets\n",
    "import torchvision.transforms as transforms\n",
    "from torch.utils.data import Dataset, DataLoader\n",
    "import torch\n",
    "import torch.nn as nn\n",
    "import numpy as np\n",
    "import pandas as pd\n",
    "import matplotlib.pyplot as plt"
   ]
  },
  {
   "cell_type": "code",
   "execution_count": 14,
   "id": "8c57ede8",
   "metadata": {},
   "outputs": [],
   "source": [
    "# Creating a data director for MNIST dataset\n",
    "# mkdir data"
   ]
  },
  {
   "cell_type": "code",
   "execution_count": 15,
   "id": "d1b01f32",
   "metadata": {},
   "outputs": [
    {
     "name": "stdout",
     "output_type": "stream",
     "text": [
      " Volume in drive C has no label.\n",
      " Volume Serial Number is 72E7-18BA\n",
      "\n",
      " Directory of C:\\Users\\xFlow\\Desktop\\Git Repo Clone\\MNIST-classifier-using-CNN\n",
      "\n",
      "23/09/2023  11:00 pm    <DIR>          .\n",
      "23/09/2023  11:00 pm    <DIR>          ..\n",
      "20/01/2023  10:34 am    <DIR>          .ipynb_checkpoints\n",
      "23/09/2023  11:00 pm    <DIR>          data\n",
      "18/01/2023  10:17 pm            35,149 LICENSE\n",
      "23/09/2023  10:58 pm             8,295 MNIST-data-classifier.ipynb\n",
      "               2 File(s)         43,444 bytes\n",
      "               4 Dir(s)  25,461,092,352 bytes free\n"
     ]
    }
   ],
   "source": [
    "torch.manual_seed(5)\n",
    "%ls"
   ]
  },
  {
   "cell_type": "code",
   "execution_count": 20,
   "id": "69ddc3c6",
   "metadata": {},
   "outputs": [],
   "source": [
    "data_dir = './data' # MNIST dataset directory path\n",
    "image_size = 28    # Image sizes after resizing \n",
    "composed = transforms.Compose([transforms.Resize((image_size,image_size)), transforms.ToTensor()])"
   ]
  },
  {
   "cell_type": "code",
   "execution_count": 21,
   "id": "15f2a955",
   "metadata": {
    "scrolled": false
   },
   "outputs": [
    {
     "name": "stdout",
     "output_type": "stream",
     "text": [
      "Downloading http://fashion-mnist.s3-website.eu-central-1.amazonaws.com/train-images-idx3-ubyte.gz\n",
      "Downloading http://fashion-mnist.s3-website.eu-central-1.amazonaws.com/train-images-idx3-ubyte.gz to ./data/MNIST\\FashionMNIST\\raw\\train-images-idx3-ubyte.gz\n"
     ]
    },
    {
     "data": {
      "application/vnd.jupyter.widget-view+json": {
       "model_id": "d311f50667cd453cbbf60f84b963c856",
       "version_major": 2,
       "version_minor": 0
      },
      "text/plain": [
       "  0%|          | 0/26421880 [00:00<?, ?it/s]"
      ]
     },
     "metadata": {},
     "output_type": "display_data"
    },
    {
     "name": "stdout",
     "output_type": "stream",
     "text": [
      "Extracting ./data/MNIST\\FashionMNIST\\raw\\train-images-idx3-ubyte.gz to ./data/MNIST\\FashionMNIST\\raw\n",
      "\n",
      "Downloading http://fashion-mnist.s3-website.eu-central-1.amazonaws.com/train-labels-idx1-ubyte.gz\n",
      "Downloading http://fashion-mnist.s3-website.eu-central-1.amazonaws.com/train-labels-idx1-ubyte.gz to ./data/MNIST\\FashionMNIST\\raw\\train-labels-idx1-ubyte.gz\n"
     ]
    },
    {
     "data": {
      "application/vnd.jupyter.widget-view+json": {
       "model_id": "0518ec941fd14b07ae6ce6a5146690af",
       "version_major": 2,
       "version_minor": 0
      },
      "text/plain": [
       "  0%|          | 0/29515 [00:00<?, ?it/s]"
      ]
     },
     "metadata": {},
     "output_type": "display_data"
    },
    {
     "name": "stdout",
     "output_type": "stream",
     "text": [
      "Extracting ./data/MNIST\\FashionMNIST\\raw\\train-labels-idx1-ubyte.gz to ./data/MNIST\\FashionMNIST\\raw\n",
      "\n",
      "Downloading http://fashion-mnist.s3-website.eu-central-1.amazonaws.com/t10k-images-idx3-ubyte.gz\n",
      "Downloading http://fashion-mnist.s3-website.eu-central-1.amazonaws.com/t10k-images-idx3-ubyte.gz to ./data/MNIST\\FashionMNIST\\raw\\t10k-images-idx3-ubyte.gz\n"
     ]
    },
    {
     "data": {
      "application/vnd.jupyter.widget-view+json": {
       "model_id": "a87d3879a406443bb398f9ffe24ebe54",
       "version_major": 2,
       "version_minor": 0
      },
      "text/plain": [
       "  0%|          | 0/4422102 [00:00<?, ?it/s]"
      ]
     },
     "metadata": {},
     "output_type": "display_data"
    },
    {
     "name": "stdout",
     "output_type": "stream",
     "text": [
      "Extracting ./data/MNIST\\FashionMNIST\\raw\\t10k-images-idx3-ubyte.gz to ./data/MNIST\\FashionMNIST\\raw\n",
      "\n",
      "Downloading http://fashion-mnist.s3-website.eu-central-1.amazonaws.com/t10k-labels-idx1-ubyte.gz\n",
      "Downloading http://fashion-mnist.s3-website.eu-central-1.amazonaws.com/t10k-labels-idx1-ubyte.gz to ./data/MNIST\\FashionMNIST\\raw\\t10k-labels-idx1-ubyte.gz\n"
     ]
    },
    {
     "data": {
      "application/vnd.jupyter.widget-view+json": {
       "model_id": "5ddc62bef2574e00a3fd6fd48dca6b0c",
       "version_major": 2,
       "version_minor": 0
      },
      "text/plain": [
       "  0%|          | 0/5148 [00:00<?, ?it/s]"
      ]
     },
     "metadata": {},
     "output_type": "display_data"
    },
    {
     "name": "stdout",
     "output_type": "stream",
     "text": [
      "Extracting ./data/MNIST\\FashionMNIST\\raw\\t10k-labels-idx1-ubyte.gz to ./data/MNIST\\FashionMNIST\\raw\n",
      "\n"
     ]
    }
   ],
   "source": [
    "# Downloading the dataset and spliting into train and validation  \n",
    "train_dataset = datasets.FashionMNIST(root = data_dir, download=True, train=True, transform=composed)\n",
    "validation_dataset = datasets.FashionMNIST(root = data_dir, download=False, train=False, transform=composed)"
   ]
  },
  {
   "cell_type": "code",
   "execution_count": 33,
   "id": "4f8bfcf2",
   "metadata": {},
   "outputs": [],
   "source": [
    "def show_image(data_sample):\n",
    "    '''\n",
    "    input: \n",
    "    dataset image is a tensor of len 2 with image at 0 and label at 1\n",
    "    dataset[0] = image : float tensor\n",
    "    dataset[1] = label : long tensor\n",
    "    Output\n",
    "    Displays the image along with its lable  \n",
    "    '''\n",
    "    plt.imshow(data_sample[0].numpy().reshape(image_size,image_size), cmap=\"gray\")\n",
    "    plt.title('y = '+ str(data_sample[1]))"
   ]
  },
  {
   "cell_type": "code",
   "execution_count": 29,
   "id": "52a3b07c",
   "metadata": {},
   "outputs": [
    {
     "name": "stdout",
     "output_type": "stream",
     "text": [
      "train_dataset:\n",
      " Dataset FashionMNIST\n",
      "    Number of datapoints: 60000\n",
      "    Root location: ./data/MNIST\n",
      "    Split: Train\n",
      "    StandardTransform\n",
      "Transform: Compose(\n",
      "               Resize(size=(28, 28), interpolation=bilinear, max_size=None, antialias=None)\n",
      "               ToTensor()\n",
      "           )\n",
      "\n",
      "______________________________\n",
      "\n",
      "validation_dataset: \n",
      "Dataset FashionMNIST\n",
      "    Number of datapoints: 10000\n",
      "    Root location: ./data/MNIST\n",
      "    Split: Test\n",
      "    StandardTransform\n",
      "Transform: Compose(\n",
      "               Resize(size=(28, 28), interpolation=bilinear, max_size=None, antialias=None)\n",
      "               ToTensor()\n",
      "           )\n"
     ]
    }
   ],
   "source": [
    "# View dataset\n",
    "print(f\"train_dataset:\\n {train_dataset}\\n\\n______________________________\\n\\nvalidation_dataset: \\n{validation_dataset}\")"
   ]
  },
  {
   "cell_type": "code",
   "execution_count": 31,
   "id": "c596d7fb",
   "metadata": {},
   "outputs": [
    {
     "data": {
      "text/plain": [
       "(tuple, torch.Tensor, int)"
      ]
     },
     "execution_count": 31,
     "metadata": {},
     "output_type": "execute_result"
    }
   ],
   "source": [
    "# view type of dataset\n",
    "type(train_dataset[0]), type(train_dataset[0][0]), type(train_dataset[0][1]) "
   ]
  },
  {
   "cell_type": "markdown",
   "id": "86160e10",
   "metadata": {},
   "source": [
    "# Each training and test example is assigned to one of the following labels:\n",
    "0 T-shirt/top\n",
    "1 Trouser\n",
    "2 Pullover\n",
    "3 Dress\n",
    "4 Coat\n",
    "5 Sandal\n",
    "6 Shirt\n",
    "7 Sneaker\n",
    "8 Bag\n",
    "9 Ankle boot"
   ]
  },
  {
   "cell_type": "code",
   "execution_count": 36,
   "id": "03a1405e",
   "metadata": {},
   "outputs": [
    {
     "data": {
      "image/png": "[encoded data removed]",
      "text/plain": [
       "<Figure size 640x480 with 1 Axes>"
      ]
     },
     "metadata": {},
     "output_type": "display_data"
    }
   ],
   "source": [
    "show_image(train_dataset[1])"
   ]
  },
  {
   "cell_type": "code",
   "execution_count": 37,
   "id": "fe86bb6b",
   "metadata": {},
   "outputs": [
    {
     "data": {
      "image/png": "[encoded data removed]",
      "text/plain": [
       "<Figure size 640x480 with 1 Axes>"
      ]
     },
     "metadata": {},
     "output_type": "display_data"
    }
   ],
   "source": [
    "show_image(train_dataset[9])"
   ]
  },
  {
   "cell_type": "code",
   "execution_count": 127,
   "id": "8ea19132",
   "metadata": {},
   "outputs": [],
   "source": [
    "class CNN(nn.Module):\n",
    "    #Constructor\n",
    "    def __init__(self, out_1, out_2 ):\n",
    "        \n",
    "        ''' \n",
    "        out_1 : Ouput channels of Layer 1\n",
    "        out_2 : Ouput channels of Layer 2\n",
    "        d_out : Number of classes\n",
    "        '''\n",
    "        super(CNN, self).__init__()\n",
    "        self.cnn1 = nn.Conv2d(in_channels=1, out_channels=out_1, kernel_size=5, padding=2)\n",
    "        self.maxpool1 = nn.MaxPool2d(kernel_size=2)\n",
    "\n",
    "\n",
    "        self.cnn2 = nn.Conv2d(in_channels=out_1, out_channels=out_2, kernel_size=5, stride=1, padding=2)\n",
    "        self.maxpool2 = nn.MaxPool2d(kernel_size=2)\n",
    "        #Fully Connected layer\n",
    "        self.fc1 = nn.Linear(out_2*7*7, 10)\n",
    "    \n",
    "    #Prediction\n",
    "    def forward(self, x):\n",
    "        '''\n",
    "        x : input images or batch of images as tensor\n",
    "        take x as an input and predict the x vector\n",
    "        '''\n",
    "        \n",
    "        x = self.cnn1(x)\n",
    "        x = torch.relu(x)\n",
    "        x = self.maxpool1(x)\n",
    "        x = self.cnn2(x)\n",
    "        x = torch.relu(x)\n",
    "        x = self.maxpool2(x) \n",
    "        x = x.view(x.size(0), -1) # Flattering the image to a vector shape\n",
    "        x = self.fc1(x)\n",
    "\n",
    "        return x\n"
   ]
  },
  {
   "cell_type": "code",
   "execution_count": 156,
   "id": "69291de0",
   "metadata": {},
   "outputs": [],
   "source": [
    "# Create the model object using CNN class\n",
    "model = CNN(out_1=100, out_2=50)"
   ]
  },
  {
   "cell_type": "code",
   "execution_count": 161,
   "id": "6e686052",
   "metadata": {},
   "outputs": [],
   "source": [
    "lr = 0.01 # Learning rate \n",
    "epochs = 8\n",
    "criterion = nn.CrossEntropyLoss()\n",
    "optimizer = torch.optim.Adam(model.parameters(), lr)"
   ]
  },
  {
   "cell_type": "code",
   "execution_count": 162,
   "id": "e4c62dfb",
   "metadata": {},
   "outputs": [],
   "source": [
    "train_loader = torch.utils.data.DataLoader(dataset = train_dataset, batch_size=100, shuffle=True)\n",
    "validation_loader = torch.utils.data.DataLoader(dataset=validation_dataset, batch_size=5000)"
   ]
  },
  {
   "cell_type": "code",
   "execution_count": 163,
   "id": "88b12710",
   "metadata": {},
   "outputs": [],
   "source": [
    "# Train the model\n",
    "\n",
    "def train(model, train_loader, validation_loader, optimizer, criterion, epochs):\n",
    "    \n",
    "    accuracy = []\n",
    "    cost_list = []\n",
    "    correct = 0\n",
    "    N_test = len(validation_dataset)\n",
    "    for epoch in range(epochs):\n",
    "        print(f\"\\nEpoch Number: {epoch}\\n\")\n",
    "        loss = 0\n",
    "        for x,y in train_loader:\n",
    "            optimizer.zero_grad()\n",
    "            yhat = model(x)\n",
    "            loss = criterion(yhat, y) \n",
    "            loss += loss.data.item()\n",
    "            loss.backward()\n",
    "            optimizer.step()\n",
    "        cost_list.append(loss)\n",
    "        \n",
    "        for x_test, y_test in validation_loader:\n",
    "            yhat = model(x_test)\n",
    "            _, yhat = torch.max(yhat, 1)\n",
    "            correct = (yhat == y_test ).sum().item()\n",
    "            accuracy.append(correct / N_test)\n",
    "    \n",
    "    return cost_list, accuracy"
   ]
  },
  {
   "cell_type": "code",
   "execution_count": 164,
   "id": "dc07bd72",
   "metadata": {},
   "outputs": [
    {
     "name": "stdout",
     "output_type": "stream",
     "text": [
      "\n",
      "Epoch Number: 0\n",
      "\n",
      "\n",
      "Epoch Number: 1\n",
      "\n",
      "\n",
      "Epoch Number: 2\n",
      "\n",
      "\n",
      "Epoch Number: 3\n",
      "\n",
      "\n",
      "Epoch Number: 4\n",
      "\n",
      "\n",
      "Epoch Number: 5\n",
      "\n",
      "\n",
      "Epoch Number: 6\n",
      "\n",
      "\n",
      "Epoch Number: 7\n",
      "\n"
     ]
    }
   ],
   "source": [
    "cost_list, accuracy_list= train(model, train_loader, validation_loader, optimizer, criterion, epochs)"
   ]
  },
  {
   "cell_type": "code",
   "execution_count": 165,
   "id": "9cf234a1",
   "metadata": {},
   "outputs": [],
   "source": [
    "temp_cost = []\n",
    "for data in cost_list:\n",
    "    temp_cost.append(data.item())\n"
   ]
  },
  {
   "cell_type": "code",
   "execution_count": 166,
   "id": "dbf77558",
   "metadata": {},
   "outputs": [
    {
     "data": {
      "image/png": "[encoded data removed]",
      "text/plain": [
       "<Figure size 640x480 with 2 Axes>"
      ]
     },
     "metadata": {},
     "output_type": "display_data"
    }
   ],
   "source": [
    "fig, ax1 = plt.subplots()\n",
    "color = 'tab:red'\n",
    "ax1.plot(temp_cost, color=color)\n",
    "ax1.set_xlabel('epoch', color=color)\n",
    "ax1.set_ylabel('Cost', color=color)\n",
    "ax1.tick_params(axis='y', color=color)\n",
    "    \n",
    "ax2 = ax1.twinx()  \n",
    "color = 'tab:blue'\n",
    "ax2.set_ylabel('accuracy', color=color) \n",
    "ax2.set_xlabel('epoch', color=color)\n",
    "ax2.plot( accuracy_list, color=color)\n",
    "ax2.tick_params(axis='y', color=color)\n",
    "fig.tight_layout()"
   ]
  },
  {
   "cell_type": "code",
   "execution_count": null,
   "id": "4c107e0c",
   "metadata": {},
   "outputs": [],
   "source": []
  }
 ],
 "metadata": {
  "kernelspec": {
   "display_name": "Python 3 (ipykernel)",
   "language": "python",
   "name": "python3"
  },
  "language_info": {
   "codemirror_mode": {
    "name": "ipython",
    "version": 3
   },
   "file_extension": ".py",
   "mimetype": "text/x-python",
   "name": "python",
   "nbconvert_exporter": "python",
   "pygments_lexer": "ipython3",
   "version": "3.9.13"
  }
 },
 "nbformat": 4,
 "nbformat_minor": 5
}
