{
  "cells": [
    {
      "cell_type": "code",
      "execution_count": 1,
      "id": "6dfc4dbb",
      "metadata": {
        "id": "6dfc4dbb"
      },
      "outputs": [],
      "source": [
        "#Importing Libraries\n",
        "from torchvision import datasets\n",
        "import torchvision.transforms as transforms\n",
        "from torch.utils.data import Dataset, DataLoader\n",
        "import torch\n",
        "import torch.nn as nn\n",
        "import numpy as np\n",
        "import pandas as pd\n",
        "import matplotlib.pyplot as plt"
      ]
    },
    {
      "cell_type": "code",
      "source": [
        "# Check GPU Status\n",
        "if torch.cuda.is_available():\n",
        "  device = torch.device(\"cuda:0\")\n",
        "else:\n",
        "  device = \"cpu\""
      ],
      "metadata": {
        "id": "hqBsSyxJ2kTW"
      },
      "id": "hqBsSyxJ2kTW",
      "execution_count": 3,
      "outputs": []
    },
    {
      "cell_type": "code",
      "execution_count": 8,
      "id": "8c57ede8",
      "metadata": {
        "id": "8c57ede8"
      },
      "outputs": [],
      "source": [
        "# Creating a data director for MNIST dataset\n",
        "# %mkdir data"
      ]
    },
    {
      "cell_type": "code",
      "execution_count": 9,
      "id": "d1b01f32",
      "metadata": {
        "colab": {
          "base_uri": "https://localhost:8080/"
        },
        "id": "d1b01f32",
        "outputId": "ac6458b1-8d82-4c2f-920e-ed7a8fc5aff2"
      },
      "outputs": [
        {
          "output_type": "stream",
          "name": "stdout",
          "text": [
            "\u001b[0m\u001b[01;34mdata\u001b[0m/  \u001b[01;34msample_data\u001b[0m/\n"
          ]
        }
      ],
      "source": [
        "torch.manual_seed(5)\n",
        "%ls"
      ]
    },
    {
      "cell_type": "code",
      "execution_count": 10,
      "id": "69ddc3c6",
      "metadata": {
        "id": "69ddc3c6"
      },
      "outputs": [],
      "source": [
        "data_dir = './data' # MNIST dataset directory path\n",
        "image_size = 28    # Image sizes after resizing\n",
        "composed = transforms.Compose([transforms.Resize((image_size,image_size)), transforms.ToTensor()])"
      ]
    },
    {
      "cell_type": "code",
      "execution_count": 11,
      "id": "15f2a955",
      "metadata": {
        "scrolled": false,
        "colab": {
          "base_uri": "https://localhost:8080/"
        },
        "id": "15f2a955",
        "outputId": "5b7ff34b-5662-4472-b987-796d3e9747cd"
      },
      "outputs": [
        {
          "output_type": "stream",
          "name": "stdout",
          "text": [
            "Downloading http://fashion-mnist.s3-website.eu-central-1.amazonaws.com/train-images-idx3-ubyte.gz\n",
            "Downloading http://fashion-mnist.s3-website.eu-central-1.amazonaws.com/train-images-idx3-ubyte.gz to ./data/FashionMNIST/raw/train-images-idx3-ubyte.gz\n"
          ]
        },
        {
          "output_type": "stream",
          "name": "stderr",
          "text": [
            "100%|██████████| 26421880/26421880 [00:03<00:00, 8524419.90it/s] \n"
          ]
        },
        {
          "output_type": "stream",
          "name": "stdout",
          "text": [
            "Extracting ./data/FashionMNIST/raw/train-images-idx3-ubyte.gz to ./data/FashionMNIST/raw\n",
            "\n",
            "Downloading http://fashion-mnist.s3-website.eu-central-1.amazonaws.com/train-labels-idx1-ubyte.gz\n",
            "Downloading http://fashion-mnist.s3-website.eu-central-1.amazonaws.com/train-labels-idx1-ubyte.gz to ./data/FashionMNIST/raw/train-labels-idx1-ubyte.gz\n"
          ]
        },
        {
          "output_type": "stream",
          "name": "stderr",
          "text": [
            "100%|██████████| 29515/29515 [00:00<00:00, 133009.23it/s]\n"
          ]
        },
        {
          "output_type": "stream",
          "name": "stdout",
          "text": [
            "Extracting ./data/FashionMNIST/raw/train-labels-idx1-ubyte.gz to ./data/FashionMNIST/raw\n",
            "\n",
            "Downloading http://fashion-mnist.s3-website.eu-central-1.amazonaws.com/t10k-images-idx3-ubyte.gz\n",
            "Downloading http://fashion-mnist.s3-website.eu-central-1.amazonaws.com/t10k-images-idx3-ubyte.gz to ./data/FashionMNIST/raw/t10k-images-idx3-ubyte.gz\n"
          ]
        },
        {
          "output_type": "stream",
          "name": "stderr",
          "text": [
            "100%|██████████| 4422102/4422102 [00:01<00:00, 2535919.98it/s]\n"
          ]
        },
        {
          "output_type": "stream",
          "name": "stdout",
          "text": [
            "Extracting ./data/FashionMNIST/raw/t10k-images-idx3-ubyte.gz to ./data/FashionMNIST/raw\n",
            "\n",
            "Downloading http://fashion-mnist.s3-website.eu-central-1.amazonaws.com/t10k-labels-idx1-ubyte.gz\n",
            "Downloading http://fashion-mnist.s3-website.eu-central-1.amazonaws.com/t10k-labels-idx1-ubyte.gz to ./data/FashionMNIST/raw/t10k-labels-idx1-ubyte.gz\n"
          ]
        },
        {
          "output_type": "stream",
          "name": "stderr",
          "text": [
            "100%|██████████| 5148/5148 [00:00<00:00, 8575169.58it/s]"
          ]
        },
        {
          "output_type": "stream",
          "name": "stdout",
          "text": [
            "Extracting ./data/FashionMNIST/raw/t10k-labels-idx1-ubyte.gz to ./data/FashionMNIST/raw\n",
            "\n"
          ]
        },
        {
          "output_type": "stream",
          "name": "stderr",
          "text": [
            "\n"
          ]
        }
      ],
      "source": [
        "# Downloading the dataset and spliting into train and validation\n",
        "train_dataset = datasets.FashionMNIST(root = data_dir, download=True, train=True, transform=composed)\n",
        "validation_dataset = datasets.FashionMNIST(root = data_dir, download=False, train=False, transform=composed)"
      ]
    },
    {
      "cell_type": "code",
      "execution_count": 12,
      "id": "4f8bfcf2",
      "metadata": {
        "id": "4f8bfcf2"
      },
      "outputs": [],
      "source": [
        "def show_image(data_sample):\n",
        "    '''\n",
        "    input:\n",
        "    dataset image is a tensor of len 2 with image at 0 and label at 1\n",
        "    dataset[0] = image : float tensor\n",
        "    dataset[1] = label : long tensor\n",
        "    Output\n",
        "    Displays the image along with its lable\n",
        "    '''\n",
        "    plt.imshow(data_sample[0].numpy().reshape(image_size,image_size), cmap=\"gray\")\n",
        "    plt.title('y = '+ str(data_sample[1]))"
      ]
    },
    {
      "cell_type": "code",
      "execution_count": 13,
      "id": "52a3b07c",
      "metadata": {
        "colab": {
          "base_uri": "https://localhost:8080/"
        },
        "id": "52a3b07c",
        "outputId": "22a9b43e-8724-440e-f084-ed33c25b6276"
      },
      "outputs": [
        {
          "output_type": "stream",
          "name": "stdout",
          "text": [
            "train_dataset:\n",
            " Dataset FashionMNIST\n",
            "    Number of datapoints: 60000\n",
            "    Root location: ./data\n",
            "    Split: Train\n",
            "    StandardTransform\n",
            "Transform: Compose(\n",
            "               Resize(size=(28, 28), interpolation=bilinear, max_size=None, antialias=warn)\n",
            "               ToTensor()\n",
            "           )\n",
            "\n",
            "______________________________\n",
            "\n",
            "validation_dataset: \n",
            "Dataset FashionMNIST\n",
            "    Number of datapoints: 10000\n",
            "    Root location: ./data\n",
            "    Split: Test\n",
            "    StandardTransform\n",
            "Transform: Compose(\n",
            "               Resize(size=(28, 28), interpolation=bilinear, max_size=None, antialias=warn)\n",
            "               ToTensor()\n",
            "           )\n"
          ]
        }
      ],
      "source": [
        "# View dataset\n",
        "print(f\"train_dataset:\\n {train_dataset}\\n\\n______________________________\\n\\nvalidation_dataset: \\n{validation_dataset}\")"
      ]
    },
    {
      "cell_type": "code",
      "execution_count": 14,
      "id": "c596d7fb",
      "metadata": {
        "colab": {
          "base_uri": "https://localhost:8080/"
        },
        "id": "c596d7fb",
        "outputId": "5f5cffd6-7fdd-4a1b-af18-41cef73c135b"
      },
      "outputs": [
        {
          "output_type": "execute_result",
          "data": {
            "text/plain": [
              "(tuple, torch.Tensor, int)"
            ]
          },
          "metadata": {},
          "execution_count": 14
        }
      ],
      "source": [
        "# view type of dataset\n",
        "type(train_dataset[0]), type(train_dataset[0][0]), type(train_dataset[0][1])"
      ]
    },
    {
      "cell_type": "markdown",
      "id": "86160e10",
      "metadata": {
        "id": "86160e10"
      },
      "source": [
        "# Each training and test example is assigned to one of the following labels:\n",
        "0 T-shirt/top\n",
        "1 Trouser\n",
        "2 Pullover\n",
        "3 Dress\n",
        "4 Coat\n",
        "5 Sandal\n",
        "6 Shirt\n",
        "7 Sneaker\n",
        "8 Bag\n",
        "9 Ankle boot"
      ]
    },
    {
      "cell_type": "code",
      "execution_count": 15,
      "id": "03a1405e",
      "metadata": {
        "colab": {
          "base_uri": "https://localhost:8080/",
          "height": 452
        },
        "id": "03a1405e",
        "outputId": "64a454ec-4035-43fa-8875-2c806fa55328"
      },
      "outputs": [
        {
          "output_type": "display_data",
          "data": {
            "text/plain": [
              "<Figure size 640x480 with 1 Axes>"
            ],
            "image/png": "[encoded data removed]"
          },
          "metadata": {}
        }
      ],
      "source": [
        "show_image(train_dataset[1])"
      ]
    },
    {
      "cell_type": "code",
      "execution_count": 16,
      "id": "fe86bb6b",
      "metadata": {
        "colab": {
          "base_uri": "https://localhost:8080/",
          "height": 452
        },
        "id": "fe86bb6b",
        "outputId": "eae587e3-bbe7-4a0f-d3c7-64cbe7ecca15"
      },
      "outputs": [
        {
          "output_type": "display_data",
          "data": {
            "text/plain": [
              "<Figure size 640x480 with 1 Axes>"
            ],
            "image/png": "[encoded data removed]"
          },
          "metadata": {}
        }
      ],
      "source": [
        "show_image(train_dataset[9])"
      ]
    },
    {
      "cell_type": "code",
      "execution_count": 17,
      "id": "8ea19132",
      "metadata": {
        "id": "8ea19132"
      },
      "outputs": [],
      "source": [
        "class CNN(nn.Module):\n",
        "    #Constructor\n",
        "    def __init__(self, out_1, out_2 ):\n",
        "\n",
        "        '''\n",
        "        out_1 : Ouput channels of Layer 1\n",
        "        out_2 : Ouput channels of Layer 2\n",
        "        d_out : Number of classes\n",
        "        '''\n",
        "        super(CNN, self).__init__()\n",
        "        self.cnn1 = nn.Conv2d(in_channels=1, out_channels=out_1, kernel_size=5, padding=2)\n",
        "        self.maxpool1 = nn.MaxPool2d(kernel_size=2)\n",
        "\n",
        "\n",
        "        self.cnn2 = nn.Conv2d(in_channels=out_1, out_channels=out_2, kernel_size=5, stride=1, padding=2)\n",
        "        self.maxpool2 = nn.MaxPool2d(kernel_size=2)\n",
        "        #Fully Connected layer\n",
        "        self.fc1 = nn.Linear(out_2*7*7, 10)\n",
        "\n",
        "    #Prediction\n",
        "    def forward(self, x):\n",
        "        '''\n",
        "        x : input images or batch of images as tensor\n",
        "        take x as an input and predict the x vector\n",
        "        '''\n",
        "\n",
        "        x = self.cnn1(x)\n",
        "        x = torch.relu(x)\n",
        "        x = self.maxpool1(x)\n",
        "        x = self.cnn2(x)\n",
        "        x = torch.relu(x)\n",
        "        x = self.maxpool2(x)\n",
        "        x = x.view(x.size(0), -1) # Flattering the image to a vector shape\n",
        "        x = self.fc1(x)\n",
        "\n",
        "        return x\n"
      ]
    },
    {
      "cell_type": "code",
      "execution_count": 18,
      "id": "69291de0",
      "metadata": {
        "id": "69291de0"
      },
      "outputs": [],
      "source": [
        "# Create the model object using CNN class\n",
        "model = CNN(out_1=100, out_2=50).to(device)"
      ]
    },
    {
      "cell_type": "code",
      "execution_count": 32,
      "id": "6e686052",
      "metadata": {
        "id": "6e686052"
      },
      "outputs": [],
      "source": [
        "lr = 0.01 # Learning rate\n",
        "epochs = 100\n",
        "criterion = nn.CrossEntropyLoss()\n",
        "optimizer = torch.optim.Adam(model.parameters(), lr)"
      ]
    },
    {
      "cell_type": "code",
      "execution_count": 33,
      "id": "e4c62dfb",
      "metadata": {
        "id": "e4c62dfb"
      },
      "outputs": [],
      "source": [
        "train_loader = torch.utils.data.DataLoader(dataset = train_dataset, batch_size=100, shuffle=True)\n",
        "validation_loader = torch.utils.data.DataLoader(dataset=validation_dataset, batch_size=5000)"
      ]
    },
    {
      "cell_type": "code",
      "execution_count": 34,
      "id": "88b12710",
      "metadata": {
        "id": "88b12710"
      },
      "outputs": [],
      "source": [
        "# Train the model\n",
        "\n",
        "def train(model, train_loader, validation_loader, optimizer, criterion, epochs):\n",
        "\n",
        "    accuracy = []\n",
        "    cost_list = []\n",
        "    correct = 0\n",
        "    N_test = len(validation_dataset)\n",
        "    for epoch in range(epochs):\n",
        "        print(f\"\\nEpoch Number: {epoch}\\n\")\n",
        "        loss = 0\n",
        "        for x,y in train_loader:\n",
        "            optimizer.zero_grad()\n",
        "            yhat = model(x.to(device))\n",
        "            loss = criterion(yhat, y.to(device))\n",
        "            loss += loss.data\n",
        "            loss.backward()\n",
        "            optimizer.step()\n",
        "        cost_list.append(loss.item())\n",
        "\n",
        "        for x_test, y_test in validation_loader:\n",
        "            yhat = model(x_test.to(device))\n",
        "            _, yhat = torch.max(yhat, 1)\n",
        "            correct = (yhat == y_test.to(device) ).sum().item()\n",
        "            accuracy.append(correct / N_test)\n",
        "\n",
        "    return cost_list, accuracy"
      ]
    },
    {
      "cell_type": "code",
      "execution_count": null,
      "id": "dc07bd72",
      "metadata": {
        "colab": {
          "base_uri": "https://localhost:8080/"
        },
        "id": "dc07bd72",
        "outputId": "7703265d-7b44-42a0-c294-4951d8a97e91"
      },
      "outputs": [
        {
          "output_type": "stream",
          "name": "stdout",
          "text": [
            "\n",
            "Epoch Number: 0\n",
            "\n",
            "\n",
            "Epoch Number: 1\n",
            "\n",
            "\n",
            "Epoch Number: 2\n",
            "\n",
            "\n",
            "Epoch Number: 3\n",
            "\n",
            "\n",
            "Epoch Number: 4\n",
            "\n"
          ]
        }
      ],
      "source": [
        "cost_list, accuracy_list= train(model, train_loader, validation_loader, optimizer, criterion, epochs)"
      ]
    },
    {
      "cell_type": "code",
      "execution_count": null,
      "id": "9cf234a1",
      "metadata": {
        "id": "9cf234a1"
      },
      "outputs": [],
      "source": [
        "temp_cost = []\n",
        "for data in cost_list:\n",
        "    temp_cost.append(data.item())\n"
      ]
    },
    {
      "cell_type": "code",
      "execution_count": 31,
      "id": "dbf77558",
      "metadata": {
        "colab": {
          "base_uri": "https://localhost:8080/",
          "height": 486
        },
        "id": "dbf77558",
        "outputId": "c0e5f0d3-977c-495e-e450-c5bff0232699"
      },
      "outputs": [
        {
          "output_type": "display_data",
          "data": {
            "text/plain": [
              "<Figure size 640x480 with 2 Axes>"
            ],
            "image/png": "[encoded data removed]"
          },
          "metadata": {}
        }
      ],
      "source": [
        "fig, ax1 = plt.subplots()\n",
        "color = 'tab:red'\n",
        "ax1.plot(cost_list, color=color)\n",
        "ax1.set_xlabel('epoch', color=color)\n",
        "ax1.set_ylabel('Cost', color=color)\n",
        "ax1.tick_params(axis='y', color=color)\n",
        "\n",
        "ax2 = ax1.twinx()\n",
        "color = 'tab:blue'\n",
        "ax2.set_ylabel('accuracy', color=color)\n",
        "ax2.set_xlabel('epoch', color=color)\n",
        "ax2.plot( accuracy_list, color=color)\n",
        "ax2.tick_params(axis='y', color=color)\n",
        "fig.tight_layout()"
      ]
    },
    {
      "cell_type": "code",
      "execution_count": null,
      "id": "4c107e0c",
      "metadata": {
        "id": "4c107e0c"
      },
      "outputs": [],
      "source": []
    }
  ],
  "metadata": {
    "kernelspec": {
      "display_name": "Python 3",
      "name": "python3"
    },
    "language_info": {
      "codemirror_mode": {
        "name": "ipython",
        "version": 3
      },
      "file_extension": ".py",
      "mimetype": "text/x-python",
      "name": "python",
      "nbconvert_exporter": "python",
      "pygments_lexer": "ipython3",
      "version": "3.9.13"
    },
    "colab": {
      "provenance": [],
      "gpuType": "T4"
    },
    "accelerator": "GPU"
  },
  "nbformat": 4,
  "nbformat_minor": 5
}