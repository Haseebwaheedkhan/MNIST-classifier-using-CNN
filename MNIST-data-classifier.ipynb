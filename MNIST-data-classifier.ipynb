{
 "cells": [
  {
   "cell_type": "code",
   "execution_count": 5,
   "id": "6dfc4dbb",
   "metadata": {},
   "outputs": [],
   "source": [
    "#Importing Libraries\n",
    "from torchvision import datasets\n",
    "import torchvision.transforms as transforms\n",
    "from torch.utils.data import Dataset, DataLoader\n",
    "import torch\n",
    "import torch.nn as nn\n",
    "import numpy as np\n",
    "import pandas as pd\n",
    "import matplotlib.pyplot as plt"
   ]
  },
  {
   "cell_type": "code",
   "execution_count": 14,
   "id": "506a8723",
   "metadata": {},
   "outputs": [],
   "source": [
    "# Creating a data director for MNIST dataset\n",
    "# mkdir data"
   ]
  },
  {
   "cell_type": "code",
   "execution_count": 15,
   "id": "d1b01f32",
   "metadata": {},
   "outputs": [
    {
     "name": "stdout",
     "output_type": "stream",
     "text": [
      " Volume in drive C has no label.\n",
      " Volume Serial Number is 72E7-18BA\n",
      "\n",
      " Directory of C:\\Users\\xFlow\\Desktop\\Git Repo Clone\\MNIST-classifier-using-CNN\n",
      "\n",
      "23/09/2023  11:00 pm    <DIR>          .\n",
      "23/09/2023  11:00 pm    <DIR>          ..\n",
      "20/01/2023  10:34 am    <DIR>          .ipynb_checkpoints\n",
      "23/09/2023  11:00 pm    <DIR>          data\n",
      "18/01/2023  10:17 pm            35,149 LICENSE\n",
      "23/09/2023  10:58 pm             8,295 MNIST-data-classifier.ipynb\n",
      "               2 File(s)         43,444 bytes\n",
      "               4 Dir(s)  25,461,092,352 bytes free\n"
     ]
    }
   ],
   "source": [
    "torch.manual_seed(5)\n",
    "%ls"
   ]
  },
  {
   "cell_type": "code",
   "execution_count": 20,
   "id": "69ddc3c6",
   "metadata": {},
   "outputs": [],
   "source": [
    "data_dir = './data' # MNIST dataset directory path\n",
    "image_size = 28    # Image sizes after resizing \n",
    "composed = transforms.Compose([transforms.Resize((image_size,image_size)), transforms.ToTensor()])"
   ]
  },
  {
   "cell_type": "code",
   "execution_count": 21,
   "id": "15f2a955",
   "metadata": {
    "scrolled": false
   },
   "outputs": [
    {
     "name": "stdout",
     "output_type": "stream",
     "text": [
      "Downloading http://fashion-mnist.s3-website.eu-central-1.amazonaws.com/train-images-idx3-ubyte.gz\n",
      "Downloading http://fashion-mnist.s3-website.eu-central-1.amazonaws.com/train-images-idx3-ubyte.gz to ./data/MNIST\\FashionMNIST\\raw\\train-images-idx3-ubyte.gz\n"
     ]
    },
    {
     "data": {
      "application/vnd.jupyter.widget-view+json": {
       "model_id": "d311f50667cd453cbbf60f84b963c856",
       "version_major": 2,
       "version_minor": 0
      },
      "text/plain": [
       "  0%|          | 0/26421880 [00:00<?, ?it/s]"
      ]
     },
     "metadata": {},
     "output_type": "display_data"
    },
    {
     "name": "stdout",
     "output_type": "stream",
     "text": [
      "Extracting ./data/MNIST\\FashionMNIST\\raw\\train-images-idx3-ubyte.gz to ./data/MNIST\\FashionMNIST\\raw\n",
      "\n",
      "Downloading http://fashion-mnist.s3-website.eu-central-1.amazonaws.com/train-labels-idx1-ubyte.gz\n",
      "Downloading http://fashion-mnist.s3-website.eu-central-1.amazonaws.com/train-labels-idx1-ubyte.gz to ./data/MNIST\\FashionMNIST\\raw\\train-labels-idx1-ubyte.gz\n"
     ]
    },
    {
     "data": {
      "application/vnd.jupyter.widget-view+json": {
       "model_id": "0518ec941fd14b07ae6ce6a5146690af",
       "version_major": 2,
       "version_minor": 0
      },
      "text/plain": [
       "  0%|          | 0/29515 [00:00<?, ?it/s]"
      ]
     },
     "metadata": {},
     "output_type": "display_data"
    },
    {
     "name": "stdout",
     "output_type": "stream",
     "text": [
      "Extracting ./data/MNIST\\FashionMNIST\\raw\\train-labels-idx1-ubyte.gz to ./data/MNIST\\FashionMNIST\\raw\n",
      "\n",
      "Downloading http://fashion-mnist.s3-website.eu-central-1.amazonaws.com/t10k-images-idx3-ubyte.gz\n",
      "Downloading http://fashion-mnist.s3-website.eu-central-1.amazonaws.com/t10k-images-idx3-ubyte.gz to ./data/MNIST\\FashionMNIST\\raw\\t10k-images-idx3-ubyte.gz\n"
     ]
    },
    {
     "data": {
      "application/vnd.jupyter.widget-view+json": {
       "model_id": "a87d3879a406443bb398f9ffe24ebe54",
       "version_major": 2,
       "version_minor": 0
      },
      "text/plain": [
       "  0%|          | 0/4422102 [00:00<?, ?it/s]"
      ]
     },
     "metadata": {},
     "output_type": "display_data"
    },
    {
     "name": "stdout",
     "output_type": "stream",
     "text": [
      "Extracting ./data/MNIST\\FashionMNIST\\raw\\t10k-images-idx3-ubyte.gz to ./data/MNIST\\FashionMNIST\\raw\n",
      "\n",
      "Downloading http://fashion-mnist.s3-website.eu-central-1.amazonaws.com/t10k-labels-idx1-ubyte.gz\n",
      "Downloading http://fashion-mnist.s3-website.eu-central-1.amazonaws.com/t10k-labels-idx1-ubyte.gz to ./data/MNIST\\FashionMNIST\\raw\\t10k-labels-idx1-ubyte.gz\n"
     ]
    },
    {
     "data": {
      "application/vnd.jupyter.widget-view+json": {
       "model_id": "5ddc62bef2574e00a3fd6fd48dca6b0c",
       "version_major": 2,
       "version_minor": 0
      },
      "text/plain": [
       "  0%|          | 0/5148 [00:00<?, ?it/s]"
      ]
     },
     "metadata": {},
     "output_type": "display_data"
    },
    {
     "name": "stdout",
     "output_type": "stream",
     "text": [
      "Extracting ./data/MNIST\\FashionMNIST\\raw\\t10k-labels-idx1-ubyte.gz to ./data/MNIST\\FashionMNIST\\raw\n",
      "\n"
     ]
    }
   ],
   "source": [
    "# Downloading the dataset and spliting into train and validation  \n",
    "train_dataset = datasets.FashionMNIST(root = data_dir, download=True, train=True, transform=composed)\n",
    "validation_dataset = datasets.FashionMNIST(root = data_dir, download=False, train=False, transform=composed)"
   ]
  },
  {
   "cell_type": "code",
   "execution_count": 23,
   "id": "4f8bfcf2",
   "metadata": {},
   "outputs": [],
   "source": [
    "def show_image(data_sample):\n",
    "    '''\n",
    "    input: \n",
    "    dataset image is a tensor of len 2 with image at 0 and label at 1\n",
    "    dataset[0] = image : float tensor\n",
    "    dataset[1] = label : long tensor\n",
    "    Output\n",
    "    Displays the image along with its lable  \n",
    "    '''\n",
    "    imshow(data_sample[0].numpy().reshape(image_size,image_size), cmap=\"gray\")\n",
    "    plt.title('y = '+ str(data_sample[1]))"
   ]
  },
  {
   "cell_type": "code",
   "execution_count": null,
   "id": "56ec669d",
   "metadata": {},
   "outputs": [],
   "source": []
  }
 ],
 "metadata": {
  "kernelspec": {
   "display_name": "Python 3 (ipykernel)",
   "language": "python",
   "name": "python3"
  },
  "language_info": {
   "codemirror_mode": {
    "name": "ipython",
    "version": 3
   },
   "file_extension": ".py",
   "mimetype": "text/x-python",
   "name": "python",
   "nbconvert_exporter": "python",
   "pygments_lexer": "ipython3",
   "version": "3.9.13"
  }
 },
 "nbformat": 4,
 "nbformat_minor": 5
}
