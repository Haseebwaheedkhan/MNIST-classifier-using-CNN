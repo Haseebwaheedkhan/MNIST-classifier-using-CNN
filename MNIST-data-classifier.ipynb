{
  "cells": [
    {
      "cell_type": "code",
      "execution_count": 222,
      "id": "6dfc4dbb",
      "metadata": {
        "id": "6dfc4dbb"
      },
      "outputs": [],
      "source": [
        "#Importing Libraries\n",
        "from torchvision import datasets\n",
        "import torchvision.transforms as transforms\n",
        "from torch.utils.data import Dataset, DataLoader\n",
        "import torch\n",
        "import torch.nn as nn\n",
        "import numpy as np\n",
        "import pandas as pd\n",
        "import matplotlib.pyplot as plt"
      ]
    },
    {
      "cell_type": "code",
      "source": [
        "# Check GPU Status\n",
        "if torch.cuda.is_available():\n",
        "  device = torch.device(\"cuda:0\")\n",
        "  print(\"device:\", device)\n",
        "else:\n",
        "  device = \"cpu\"\n",
        "  print(\"device:\", device)"
      ],
      "metadata": {
        "colab": {
          "base_uri": "https://localhost:8080/"
        },
        "id": "hqBsSyxJ2kTW",
        "outputId": "55913ed3-752e-41b7-8e80-5adfe344e61e"
      },
      "id": "hqBsSyxJ2kTW",
      "execution_count": 223,
      "outputs": [
        {
          "output_type": "stream",
          "name": "stdout",
          "text": [
            "device: cuda:0\n"
          ]
        }
      ]
    },
    {
      "cell_type": "code",
      "execution_count": 224,
      "id": "8c57ede8",
      "metadata": {
        "id": "8c57ede8"
      },
      "outputs": [],
      "source": [
        "# Creating a data director for MNIST dataset\n",
        "# %mkdir data"
      ]
    },
    {
      "cell_type": "code",
      "execution_count": 225,
      "id": "d1b01f32",
      "metadata": {
        "colab": {
          "base_uri": "https://localhost:8080/"
        },
        "id": "d1b01f32",
        "outputId": "035bfe30-fb65-40f4-d35f-56b7ada1f6f3"
      },
      "outputs": [
        {
          "output_type": "stream",
          "name": "stdout",
          "text": [
            "\u001b[0m\u001b[01;34mdata\u001b[0m/  \u001b[01;34msample_data\u001b[0m/\n"
          ]
        }
      ],
      "source": [
        "torch.manual_seed(5)\n",
        "%ls"
      ]
    },
    {
      "cell_type": "code",
      "execution_count": 226,
      "id": "69ddc3c6",
      "metadata": {
        "id": "69ddc3c6"
      },
      "outputs": [],
      "source": [
        "data_dir = './data' # MNIST dataset directory path\n",
        "image_size = 28    # Image sizes after resizing\n",
        "composed = transforms.Compose([transforms.Resize((image_size,image_size)), transforms.ToTensor()])"
      ]
    },
    {
      "cell_type": "code",
      "execution_count": 227,
      "id": "15f2a955",
      "metadata": {
        "scrolled": false,
        "id": "15f2a955"
      },
      "outputs": [],
      "source": [
        "# Downloading the dataset and spliting into train and validation\n",
        "train_dataset = datasets.FashionMNIST(root = data_dir, download=True, train=True, transform=composed)\n",
        "validation_dataset = datasets.FashionMNIST(root = data_dir, download=False, train=False, transform=composed)"
      ]
    },
    {
      "cell_type": "code",
      "execution_count": 228,
      "id": "4f8bfcf2",
      "metadata": {
        "id": "4f8bfcf2"
      },
      "outputs": [],
      "source": [
        "def show_image(data_sample):\n",
        "    '''\n",
        "    input:\n",
        "    dataset image is a tensor of len 2 with image at 0 and label at 1\n",
        "    dataset[0] = image : float tensor\n",
        "    dataset[1] = label : long tensor\n",
        "    Output\n",
        "    Displays the image along with its lable\n",
        "    '''\n",
        "    plt.imshow(data_sample[0].numpy().reshape(image_size,image_size), cmap=\"gray\")\n",
        "    plt.title('y = '+ str(data_sample[1]))"
      ]
    },
    {
      "cell_type": "code",
      "execution_count": 229,
      "id": "52a3b07c",
      "metadata": {
        "colab": {
          "base_uri": "https://localhost:8080/"
        },
        "id": "52a3b07c",
        "outputId": "f0cf9ac0-aa4e-4580-8d26-6e69a2f3e373"
      },
      "outputs": [
        {
          "output_type": "stream",
          "name": "stdout",
          "text": [
            "train_dataset:\n",
            " Dataset FashionMNIST\n",
            "    Number of datapoints: 60000\n",
            "    Root location: ./data\n",
            "    Split: Train\n",
            "    StandardTransform\n",
            "Transform: Compose(\n",
            "               Resize(size=(28, 28), interpolation=bilinear, max_size=None, antialias=warn)\n",
            "               ToTensor()\n",
            "           )\n",
            "\n",
            "______________________________\n",
            "\n",
            "validation_dataset: \n",
            "Dataset FashionMNIST\n",
            "    Number of datapoints: 10000\n",
            "    Root location: ./data\n",
            "    Split: Test\n",
            "    StandardTransform\n",
            "Transform: Compose(\n",
            "               Resize(size=(28, 28), interpolation=bilinear, max_size=None, antialias=warn)\n",
            "               ToTensor()\n",
            "           )\n"
          ]
        }
      ],
      "source": [
        "# View dataset\n",
        "print(f\"train_dataset:\\n {train_dataset}\\n\\n______________________________\\n\\nvalidation_dataset: \\n{validation_dataset}\")"
      ]
    },
    {
      "cell_type": "code",
      "execution_count": 230,
      "id": "c596d7fb",
      "metadata": {
        "colab": {
          "base_uri": "https://localhost:8080/"
        },
        "id": "c596d7fb",
        "outputId": "9a60e3cf-18b1-46e8-f191-0b620e05ca83"
      },
      "outputs": [
        {
          "output_type": "execute_result",
          "data": {
            "text/plain": [
              "(tuple, torch.Tensor, int)"
            ]
          },
          "metadata": {},
          "execution_count": 230
        }
      ],
      "source": [
        "# view type of dataset\n",
        "type(train_dataset[0]), type(train_dataset[0][0]), type(train_dataset[0][1])"
      ]
    },
    {
      "cell_type": "code",
      "source": [
        "label_encoding = {\n",
        "    0: \"T-shirt/top\", 1: \"Trouser\", 2: \"Pullover\", 3: \"Dress\",\n",
        "    4: \"Coat\", 5: \"Sandal\", 6: \"Shirt\", 7: \"Sneaker\", 8: \"Bag\", 9: \"Ankle boot\"\n",
        "}"
      ],
      "metadata": {
        "id": "nyRnpzEtbk6h"
      },
      "id": "nyRnpzEtbk6h",
      "execution_count": 279,
      "outputs": []
    },
    {
      "cell_type": "code",
      "execution_count": 231,
      "id": "03a1405e",
      "metadata": {
        "colab": {
          "base_uri": "https://localhost:8080/",
          "height": 452
        },
        "id": "03a1405e",
        "outputId": "7b4b89c4-66be-43a8-ac15-ca6b6e6e2126"
      },
      "outputs": [
        {
          "output_type": "display_data",
          "data": {
            "text/plain": [
              "<Figure size 640x480 with 1 Axes>"
            ],
            "image/png": "[encoded data removed]"
          },
          "metadata": {}
        }
      ],
      "source": [
        "show_image(train_dataset[1])"
      ]
    },
    {
      "cell_type": "code",
      "execution_count": 232,
      "id": "fe86bb6b",
      "metadata": {
        "colab": {
          "base_uri": "https://localhost:8080/",
          "height": 452
        },
        "id": "fe86bb6b",
        "outputId": "6b467ca6-01e6-45ea-cab9-b53a190ff17e"
      },
      "outputs": [
        {
          "output_type": "display_data",
          "data": {
            "text/plain": [
              "<Figure size 640x480 with 1 Axes>"
            ],
            "image/png": "[encoded data removed]"
          },
          "metadata": {}
        }
      ],
      "source": [
        "show_image(train_dataset[9])"
      ]
    },
    {
      "cell_type": "code",
      "execution_count": 234,
      "id": "8ea19132",
      "metadata": {
        "id": "8ea19132"
      },
      "outputs": [],
      "source": [
        "class CNN(nn.Module):\n",
        "    #Constructor\n",
        "    def __init__(self, out_1, out_2 ):\n",
        "\n",
        "        '''\n",
        "        out_1 : Ouput channels of Layer 1\n",
        "        out_2 : Ouput channels of Layer 2\n",
        "        d_out : Number of classes\n",
        "        '''\n",
        "        super(CNN, self).__init__()\n",
        "        self.cnn1 = nn.Conv2d(in_channels=1, out_channels=out_1, kernel_size=5, padding=2)\n",
        "        self.maxpool1 = nn.MaxPool2d(kernel_size=2)\n",
        "\n",
        "\n",
        "        self.cnn2 = nn.Conv2d(in_channels=out_1, out_channels=out_2, kernel_size=5, stride=1, padding=2)\n",
        "        self.maxpool2 = nn.MaxPool2d(kernel_size=2)\n",
        "        #Fully Connected layer\n",
        "        self.fc1 = nn.Linear(out_2*7*7, 10)\n",
        "\n",
        "    #Prediction\n",
        "    def forward(self, x):\n",
        "        '''\n",
        "        x : input images or batch of images as tensor\n",
        "        take x as an input and predict the x vector\n",
        "        '''\n",
        "\n",
        "        x = self.cnn1(x)\n",
        "        x = torch.relu(x)\n",
        "        x = self.maxpool1(x)\n",
        "        x = self.cnn2(x)\n",
        "        x = torch.relu(x)\n",
        "        x = self.maxpool2(x)\n",
        "        x = x.view(x.size(0), -1) # Flattering the image to a vector shape\n",
        "        x = self.fc1(x)\n",
        "\n",
        "        return x\n",
        "\n",
        "# Create the model object using CNN class\n",
        "model = CNN(out_1=100, out_2=50).to(device)"
      ]
    },
    {
      "cell_type": "code",
      "source": [
        "class DNN(nn.Module):\n",
        "    #Constructor\n",
        "    def __init__(self, d_in,hidden_layer1,hidden_layer2, d_out, p=0 ):\n",
        "\n",
        "        '''\n",
        "        d_in : Input size of image\n",
        "        d_out : Number of classes\n",
        "        p = Drop out probility\n",
        "        '''\n",
        "        super(DNN, self).__init__()\n",
        "        self.linear1 = nn.Linear(d_in,hidden_layer1)\n",
        "        self.linear2 = nn.Linear(hidden_layer1, hidden_layer2)\n",
        "        self.linear3 = nn.Linear(hidden_layer2, d_out)\n",
        "        self.drop = nn.Dropout(p=p)\n",
        "\n",
        "    #Prediction\n",
        "    def forward(self, x):\n",
        "        '''\n",
        "        x : input images or batch of images as tensor\n",
        "        take x as an input and predict the x vector\n",
        "        '''\n",
        "        x = x.view(-1, self.linear1.in_features)\n",
        "\n",
        "        x = self.linear1(x)\n",
        "        x = torch.relu(x)\n",
        "        x = self.drop(x)\n",
        "\n",
        "        x = self.linear2(x)\n",
        "        x = torch.relu(x)\n",
        "        x = self.drop(x)\n",
        "\n",
        "        x = self.linear3(x)\n",
        "\n",
        "        return x\n",
        "\n",
        "# Create the model object using DNN class\n",
        "model = DNN(d_in=(image_size*image_size), hidden_layer1=200, hidden_layer2=90, d_out=10, p=0.3).to(device)"
      ],
      "metadata": {
        "id": "4Jopc-Pr21ys"
      },
      "id": "4Jopc-Pr21ys",
      "execution_count": 235,
      "outputs": []
    },
    {
      "cell_type": "code",
      "execution_count": 237,
      "id": "6e686052",
      "metadata": {
        "id": "6e686052"
      },
      "outputs": [],
      "source": [
        "lr = 0.001 # Learning rate\n",
        "epochs = 20\n",
        "criterion = nn.CrossEntropyLoss()\n",
        "optimizer = torch.optim.Adam(model.parameters(), lr)"
      ]
    },
    {
      "cell_type": "code",
      "execution_count": 238,
      "id": "e4c62dfb",
      "metadata": {
        "id": "e4c62dfb"
      },
      "outputs": [],
      "source": [
        "train_loader = torch.utils.data.DataLoader(dataset = train_dataset, batch_size=2000, shuffle=True)\n",
        "validation_loader = torch.utils.data.DataLoader(dataset=validation_dataset, batch_size=5000)"
      ]
    },
    {
      "cell_type": "code",
      "execution_count": 239,
      "id": "88b12710",
      "metadata": {
        "id": "88b12710"
      },
      "outputs": [],
      "source": [
        "# Train the model\n",
        "\n",
        "def train(model, train_loader, validation_loader, optimizer, criterion, epochs):\n",
        "\n",
        "    accuracy_list= []\n",
        "    cost_list = []\n",
        "    N_test = len(validation_dataset)\n",
        "    for epoch in range(epochs):\n",
        "\n",
        "        total = 0\n",
        "        model.train()\n",
        "        for x,y in train_loader:\n",
        "          x , y = x.to(device), y.to(device)\n",
        "          yhat = model(x)\n",
        "          loss = criterion(yhat, y)\n",
        "          optimizer.zero_grad()\n",
        "          loss.backward()\n",
        "          optimizer.step()\n",
        "          total += loss.item()\n",
        "        cost_list.append(total)\n",
        "\n",
        "        correct = 0\n",
        "        accuracy = 0\n",
        "        for x_test, y_test in validation_loader:\n",
        "            model.eval()\n",
        "            x_test , y_test = x_test.to(device), y_test.to(device)\n",
        "            yhat = model(x_test)\n",
        "            _, label = torch.max(yhat, 1)\n",
        "            correct += (label == y_test).sum().item()\n",
        "        accuracy = 100 * (correct / N_test)\n",
        "        accuracy_list.append(accuracy)\n",
        "        print(f\"\\nEpoch -> {epoch} Training Epoch Cost: {total}, val acc: {accuracy}\")\n",
        "\n",
        "    return cost_list, accuracy_list"
      ]
    },
    {
      "cell_type": "code",
      "source": [
        "cost_list, accuracy_list= train(model, train_loader, validation_loader, optimizer, criterion, epochs)"
      ],
      "metadata": {
        "colab": {
          "base_uri": "https://localhost:8080/"
        },
        "id": "NIQe0udj7pMS",
        "outputId": "227578c3-693d-4872-cfd1-30cd99857969"
      },
      "id": "NIQe0udj7pMS",
      "execution_count": 240,
      "outputs": [
        {
          "output_type": "stream",
          "name": "stdout",
          "text": [
            "\n",
            "Epoch -> 0 Training Epoch Cost: 43.35562640428543, val acc: 70.94\n",
            "\n",
            "Epoch -> 1 Training Epoch Cost: 22.720739781856537, val acc: 78.53\n",
            "\n",
            "Epoch -> 2 Training Epoch Cost: 18.36105078458786, val acc: 81.34\n",
            "\n",
            "Epoch -> 3 Training Epoch Cost: 16.253223657608032, val acc: 82.32000000000001\n",
            "\n",
            "Epoch -> 4 Training Epoch Cost: 14.956712007522583, val acc: 83.3\n",
            "\n",
            "Epoch -> 5 Training Epoch Cost: 14.103929817676544, val acc: 84.28999999999999\n",
            "\n",
            "Epoch -> 6 Training Epoch Cost: 13.31579527258873, val acc: 84.66\n",
            "\n",
            "Epoch -> 7 Training Epoch Cost: 12.756568312644958, val acc: 85.37\n",
            "\n",
            "Epoch -> 8 Training Epoch Cost: 12.243224769830704, val acc: 85.76\n",
            "\n",
            "Epoch -> 9 Training Epoch Cost: 11.828490316867828, val acc: 86.03\n",
            "\n",
            "Epoch -> 10 Training Epoch Cost: 11.589367091655731, val acc: 86.48\n",
            "\n",
            "Epoch -> 11 Training Epoch Cost: 11.337516635656357, val acc: 86.6\n",
            "\n",
            "Epoch -> 12 Training Epoch Cost: 10.987703531980515, val acc: 86.83999999999999\n",
            "\n",
            "Epoch -> 13 Training Epoch Cost: 10.78826716542244, val acc: 86.59\n",
            "\n",
            "Epoch -> 14 Training Epoch Cost: 10.604460656642914, val acc: 86.94\n",
            "\n",
            "Epoch -> 15 Training Epoch Cost: 10.427058607339859, val acc: 87.45\n",
            "\n",
            "Epoch -> 16 Training Epoch Cost: 10.309510797262192, val acc: 87.33\n",
            "\n",
            "Epoch -> 17 Training Epoch Cost: 10.009391963481903, val acc: 87.64999999999999\n",
            "\n",
            "Epoch -> 18 Training Epoch Cost: 9.89275512099266, val acc: 87.5\n",
            "\n",
            "Epoch -> 19 Training Epoch Cost: 9.7608462870121, val acc: 87.7\n"
          ]
        }
      ]
    },
    {
      "cell_type": "code",
      "execution_count": 241,
      "id": "dbf77558",
      "metadata": {
        "colab": {
          "base_uri": "https://localhost:8080/",
          "height": 486
        },
        "id": "dbf77558",
        "outputId": "bb7118d5-1eee-4611-892a-57d38ec968f2"
      },
      "outputs": [
        {
          "output_type": "display_data",
          "data": {
            "text/plain": [
              "<Figure size 640x480 with 2 Axes>"
            ],
            "image/png": "[encoded data removed]"
          },
          "metadata": {}
        }
      ],
      "source": [
        "fig, ax1 = plt.subplots()\n",
        "color = 'tab:red'\n",
        "ax1.plot(cost_list, color=color)\n",
        "ax1.set_xlabel('epoch', color=color)\n",
        "ax1.set_ylabel('Cost', color=color)\n",
        "ax1.tick_params(axis='y', color=color)\n",
        "\n",
        "ax2 = ax1.twinx()\n",
        "color = 'tab:blue'\n",
        "ax2.set_ylabel('accuracy', color=color)\n",
        "ax2.set_xlabel('epoch', color=color)\n",
        "ax2.plot( accuracy_list, color=color)\n",
        "ax2.tick_params(axis='y', color=color)\n",
        "fig.tight_layout()"
      ]
    },
    {
      "cell_type": "markdown",
      "source": [
        "## Label Encoding\n",
        "0. T-shirt/top\n",
        "1. Trouser\n",
        "2. Pullover\n",
        "3. Dress\n",
        "4. Coat\n",
        "5. Sandal\n",
        "6. Shirt\n",
        "7. Sneaker\n",
        "8. Bag\n",
        "9. Ankle boot"
      ],
      "metadata": {
        "id": "sfyp6NeQUtTL"
      },
      "id": "sfyp6NeQUtTL"
    },
    {
      "cell_type": "code",
      "source": [
        "# Validating the prediction just for Fun\n",
        "model.eval()\n",
        "index = 90\n",
        "pred = model(validation_dataset[index][0].to(device))\n",
        "_, label = torch.max(pred, 1)\n",
        "print(f\"Predicted Label: {label_encoding[label.item()]}\\n\")\n",
        "\n",
        "# Display input image\n",
        "show_image(validation_dataset[index])"
      ],
      "metadata": {
        "colab": {
          "base_uri": "https://localhost:8080/",
          "height": 489
        },
        "id": "N0s6jWGMSbqG",
        "outputId": "40fcd073-79a4-4eef-826a-0241c6bf7f13"
      },
      "id": "N0s6jWGMSbqG",
      "execution_count": 281,
      "outputs": [
        {
          "output_type": "stream",
          "name": "stdout",
          "text": [
            "Predicted Label: Sandal\n",
            "\n"
          ]
        },
        {
          "output_type": "display_data",
          "data": {
            "text/plain": [
              "<Figure size 640x480 with 1 Axes>"
            ],
            "image/png": "[encoded data removed]"
          },
          "metadata": {}
        }
      ]
    },
    {
      "cell_type": "code",
      "source": [
        "# Validating the prediction just for Fun\n",
        "\n",
        "for index in range(3):\n",
        "  pred = model(validation_dataset[index][0].to(device))\n",
        "  _, label = torch.max(pred, 1)\n",
        "  print(f\"Predicted {index} Label : {label_encoding[label.item()]}\\n\")\n",
        "  # Display input image\n",
        "  plt.subplot(1, 3, index + 1)\n",
        "  show_image(validation_dataset[index])\n",
        "plt.show()"
      ],
      "metadata": {
        "colab": {
          "base_uri": "https://localhost:8080/",
          "height": 339
        },
        "id": "xEigQAj7Xuxy",
        "outputId": "c7227826-8b29-4599-a130-74ea3de74692"
      },
      "id": "xEigQAj7Xuxy",
      "execution_count": 283,
      "outputs": [
        {
          "output_type": "stream",
          "name": "stdout",
          "text": [
            "Predicted 0 Label : Ankle boot\n",
            "\n",
            "Predicted 1 Label : Pullover\n",
            "\n",
            "Predicted 2 Label : Trouser\n",
            "\n"
          ]
        },
        {
          "output_type": "display_data",
          "data": {
            "text/plain": [
              "<Figure size 640x480 with 3 Axes>"
            ],
            "image/png": "[encoded data removed]"
          },
          "metadata": {}
        }
      ]
    },
    {
      "cell_type": "code",
      "source": [],
      "metadata": {
        "id": "Sni4oVMzbf5U"
      },
      "id": "Sni4oVMzbf5U",
      "execution_count": null,
      "outputs": []
    }
  ],
  "metadata": {
    "kernelspec": {
      "display_name": "Python 3",
      "name": "python3"
    },
    "language_info": {
      "codemirror_mode": {
        "name": "ipython",
        "version": 3
      },
      "file_extension": ".py",
      "mimetype": "text/x-python",
      "name": "python",
      "nbconvert_exporter": "python",
      "pygments_lexer": "ipython3",
      "version": "3.9.13"
    },
    "colab": {
      "provenance": [],
      "gpuType": "T4"
    },
    "accelerator": "GPU"
  },
  "nbformat": 4,
  "nbformat_minor": 5
}