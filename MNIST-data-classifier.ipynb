{
  "cells": [
    {
      "cell_type": "code",
      "execution_count": 1,
      "id": "6dfc4dbb",
      "metadata": {
        "id": "6dfc4dbb"
      },
      "outputs": [],
      "source": [
        "#Importing Libraries\n",
        "from torchvision import datasets\n",
        "import torchvision.transforms as transforms\n",
        "from torch.utils.data import Dataset, DataLoader\n",
        "import torch\n",
        "import torch.nn as nn\n",
        "import numpy as np\n",
        "import pandas as pd\n",
        "import matplotlib.pyplot as plt"
      ]
    },
    {
      "cell_type": "code",
      "source": [
        "# Check GPU Status\n",
        "if torch.cuda.is_available():\n",
        "  device = torch.device(\"cuda:0\")\n",
        "  print(\"device:\", device)\n",
        "else:\n",
        "  device = \"cpu\"\n",
        "  print(\"device:\", device)"
      ],
      "metadata": {
        "colab": {
          "base_uri": "https://localhost:8080/"
        },
        "id": "hqBsSyxJ2kTW",
        "outputId": "46bcbdee-0a0d-4236-964c-efa34bb88275"
      },
      "id": "hqBsSyxJ2kTW",
      "execution_count": 4,
      "outputs": [
        {
          "output_type": "stream",
          "name": "stdout",
          "text": [
            "device: cuda:0\n"
          ]
        }
      ]
    },
    {
      "cell_type": "code",
      "execution_count": 5,
      "id": "8c57ede8",
      "metadata": {
        "id": "8c57ede8"
      },
      "outputs": [],
      "source": [
        "# Creating a data director for MNIST dataset\n",
        "# %mkdir data"
      ]
    },
    {
      "cell_type": "code",
      "execution_count": 6,
      "id": "d1b01f32",
      "metadata": {
        "colab": {
          "base_uri": "https://localhost:8080/"
        },
        "id": "d1b01f32",
        "outputId": "fde544e2-9977-408f-80c4-0524a7d70658"
      },
      "outputs": [
        {
          "output_type": "stream",
          "name": "stdout",
          "text": [
            "\u001b[0m\u001b[01;34msample_data\u001b[0m/\n"
          ]
        }
      ],
      "source": [
        "torch.manual_seed(5)\n",
        "%ls"
      ]
    },
    {
      "cell_type": "code",
      "execution_count": 7,
      "id": "69ddc3c6",
      "metadata": {
        "id": "69ddc3c6"
      },
      "outputs": [],
      "source": [
        "data_dir = './data' # MNIST dataset directory path\n",
        "image_size = 28    # Image sizes after resizing\n",
        "composed = transforms.Compose([transforms.Resize((image_size,image_size)), transforms.ToTensor()])"
      ]
    },
    {
      "cell_type": "code",
      "execution_count": 8,
      "id": "15f2a955",
      "metadata": {
        "scrolled": false,
        "colab": {
          "base_uri": "https://localhost:8080/"
        },
        "id": "15f2a955",
        "outputId": "fcaf8504-c592-4241-fe08-ff491d04f082"
      },
      "outputs": [
        {
          "output_type": "stream",
          "name": "stdout",
          "text": [
            "Downloading http://fashion-mnist.s3-website.eu-central-1.amazonaws.com/train-images-idx3-ubyte.gz\n",
            "Downloading http://fashion-mnist.s3-website.eu-central-1.amazonaws.com/train-images-idx3-ubyte.gz to ./data/FashionMNIST/raw/train-images-idx3-ubyte.gz\n"
          ]
        },
        {
          "output_type": "stream",
          "name": "stderr",
          "text": [
            "100%|██████████| 26421880/26421880 [00:00<00:00, 121463147.73it/s]\n"
          ]
        },
        {
          "output_type": "stream",
          "name": "stdout",
          "text": [
            "Extracting ./data/FashionMNIST/raw/train-images-idx3-ubyte.gz to ./data/FashionMNIST/raw\n",
            "\n",
            "Downloading http://fashion-mnist.s3-website.eu-central-1.amazonaws.com/train-labels-idx1-ubyte.gz\n",
            "Downloading http://fashion-mnist.s3-website.eu-central-1.amazonaws.com/train-labels-idx1-ubyte.gz to ./data/FashionMNIST/raw/train-labels-idx1-ubyte.gz\n"
          ]
        },
        {
          "output_type": "stream",
          "name": "stderr",
          "text": [
            "100%|██████████| 29515/29515 [00:00<00:00, 5715104.68it/s]"
          ]
        },
        {
          "output_type": "stream",
          "name": "stdout",
          "text": [
            "Extracting ./data/FashionMNIST/raw/train-labels-idx1-ubyte.gz to ./data/FashionMNIST/raw\n",
            "\n",
            "Downloading http://fashion-mnist.s3-website.eu-central-1.amazonaws.com/t10k-images-idx3-ubyte.gz\n",
            "Downloading http://fashion-mnist.s3-website.eu-central-1.amazonaws.com/t10k-images-idx3-ubyte.gz to ./data/FashionMNIST/raw/t10k-images-idx3-ubyte.gz\n"
          ]
        },
        {
          "output_type": "stream",
          "name": "stderr",
          "text": [
            "\n",
            "100%|██████████| 4422102/4422102 [00:00<00:00, 61861759.26it/s]\n"
          ]
        },
        {
          "output_type": "stream",
          "name": "stdout",
          "text": [
            "Extracting ./data/FashionMNIST/raw/t10k-images-idx3-ubyte.gz to ./data/FashionMNIST/raw\n",
            "\n",
            "Downloading http://fashion-mnist.s3-website.eu-central-1.amazonaws.com/t10k-labels-idx1-ubyte.gz\n",
            "Downloading http://fashion-mnist.s3-website.eu-central-1.amazonaws.com/t10k-labels-idx1-ubyte.gz to ./data/FashionMNIST/raw/t10k-labels-idx1-ubyte.gz\n"
          ]
        },
        {
          "output_type": "stream",
          "name": "stderr",
          "text": [
            "100%|██████████| 5148/5148 [00:00<00:00, 7594891.66it/s]\n"
          ]
        },
        {
          "output_type": "stream",
          "name": "stdout",
          "text": [
            "Extracting ./data/FashionMNIST/raw/t10k-labels-idx1-ubyte.gz to ./data/FashionMNIST/raw\n",
            "\n"
          ]
        }
      ],
      "source": [
        "# Downloading the dataset and spliting into train and validation\n",
        "train_dataset = datasets.FashionMNIST(root = data_dir, download=True, train=True, transform=composed)\n",
        "validation_dataset = datasets.FashionMNIST(root = data_dir, download=False, train=False, transform=composed)"
      ]
    },
    {
      "cell_type": "code",
      "execution_count": 9,
      "id": "4f8bfcf2",
      "metadata": {
        "id": "4f8bfcf2"
      },
      "outputs": [],
      "source": [
        "def show_image(data_sample):\n",
        "    '''\n",
        "    input:\n",
        "    dataset image is a tensor of len 2 with image at 0 and label at 1\n",
        "    dataset[0] = image : float tensor\n",
        "    dataset[1] = label : long tensor\n",
        "    Output\n",
        "    Displays the image along with its lable\n",
        "    '''\n",
        "    plt.imshow(data_sample[0].numpy().reshape(image_size,image_size), cmap=\"gray\")\n",
        "    plt.title('y = '+ str(data_sample[1]))"
      ]
    },
    {
      "cell_type": "code",
      "execution_count": 10,
      "id": "52a3b07c",
      "metadata": {
        "colab": {
          "base_uri": "https://localhost:8080/"
        },
        "id": "52a3b07c",
        "outputId": "1209f1bd-a281-42e3-fa69-bd2fc4670276"
      },
      "outputs": [
        {
          "output_type": "stream",
          "name": "stdout",
          "text": [
            "train_dataset:\n",
            " Dataset FashionMNIST\n",
            "    Number of datapoints: 60000\n",
            "    Root location: ./data\n",
            "    Split: Train\n",
            "    StandardTransform\n",
            "Transform: Compose(\n",
            "               Resize(size=(28, 28), interpolation=bilinear, max_size=None, antialias=warn)\n",
            "               ToTensor()\n",
            "           )\n",
            "\n",
            "______________________________\n",
            "\n",
            "validation_dataset: \n",
            "Dataset FashionMNIST\n",
            "    Number of datapoints: 10000\n",
            "    Root location: ./data\n",
            "    Split: Test\n",
            "    StandardTransform\n",
            "Transform: Compose(\n",
            "               Resize(size=(28, 28), interpolation=bilinear, max_size=None, antialias=warn)\n",
            "               ToTensor()\n",
            "           )\n"
          ]
        }
      ],
      "source": [
        "# View dataset\n",
        "print(f\"train_dataset:\\n {train_dataset}\\n\\n______________________________\\n\\nvalidation_dataset: \\n{validation_dataset}\")"
      ]
    },
    {
      "cell_type": "code",
      "execution_count": 11,
      "id": "c596d7fb",
      "metadata": {
        "colab": {
          "base_uri": "https://localhost:8080/"
        },
        "id": "c596d7fb",
        "outputId": "134ca333-7713-4d91-96cf-36fce53927bd"
      },
      "outputs": [
        {
          "output_type": "execute_result",
          "data": {
            "text/plain": [
              "(tuple, torch.Tensor, int)"
            ]
          },
          "metadata": {},
          "execution_count": 11
        }
      ],
      "source": [
        "# view type of dataset\n",
        "type(train_dataset[0]), type(train_dataset[0][0]), type(train_dataset[0][1])"
      ]
    },
    {
      "cell_type": "markdown",
      "id": "86160e10",
      "metadata": {
        "id": "86160e10"
      },
      "source": [
        "# Each training and test example is assigned to one of the following labels:\n",
        "0. T-shirt/top\n",
        "1. Trouser\n",
        "2. Pullover\n",
        "3. Dress\n",
        "4. Coat\n",
        "5. Sandal\n",
        "6. Shirt\n",
        "7. Sneaker\n",
        "8. Bag\n",
        "9. Ankle boot\n",
        "\n"
      ]
    },
    {
      "cell_type": "code",
      "execution_count": 12,
      "id": "03a1405e",
      "metadata": {
        "colab": {
          "base_uri": "https://localhost:8080/",
          "height": 452
        },
        "id": "03a1405e",
        "outputId": "ba645abc-bc69-4381-ab0b-7edd59f9d8a8"
      },
      "outputs": [
        {
          "output_type": "display_data",
          "data": {
            "text/plain": [
              "<Figure size 640x480 with 1 Axes>"
            ],
            "image/png": "[encoded data removed]"
          },
          "metadata": {}
        }
      ],
      "source": [
        "show_image(train_dataset[1])"
      ]
    },
    {
      "cell_type": "code",
      "execution_count": 13,
      "id": "fe86bb6b",
      "metadata": {
        "colab": {
          "base_uri": "https://localhost:8080/",
          "height": 452
        },
        "id": "fe86bb6b",
        "outputId": "79fc25e5-bb13-4a8a-d5a1-01035376a4fb"
      },
      "outputs": [
        {
          "output_type": "display_data",
          "data": {
            "text/plain": [
              "<Figure size 640x480 with 1 Axes>"
            ],
            "image/png": "[encoded data removed]"
          },
          "metadata": {}
        }
      ],
      "source": [
        "show_image(train_dataset[9])"
      ]
    },
    {
      "cell_type": "code",
      "execution_count": 14,
      "id": "8ea19132",
      "metadata": {
        "id": "8ea19132"
      },
      "outputs": [],
      "source": [
        "class CNN_basic(nn.Module):\n",
        "    #Constructor\n",
        "    def __init__(self, out_1, out_2 ):\n",
        "\n",
        "        '''\n",
        "        out_1 : Ouput channels of Layer 1\n",
        "        out_2 : Ouput channels of Layer 2\n",
        "        d_out : Number of classes\n",
        "        '''\n",
        "        super(CNN, self).__init__()\n",
        "        self.cnn1 = nn.Conv2d(in_channels=1, out_channels=out_1, kernel_size=5, padding=2)\n",
        "        self.maxpool1 = nn.MaxPool2d(kernel_size=2)\n",
        "\n",
        "\n",
        "        self.cnn2 = nn.Conv2d(in_channels=out_1, out_channels=out_2, kernel_size=5, stride=1, padding=2)\n",
        "        self.maxpool2 = nn.MaxPool2d(kernel_size=2)\n",
        "        #Fully Connected layer\n",
        "        self.fc1 = nn.Linear(out_2*7*7, 10)\n",
        "\n",
        "    #Prediction\n",
        "    def forward(self, x):\n",
        "        '''\n",
        "        x : input images or batch of images as tensor\n",
        "        take x as an input and predict the x vector\n",
        "        '''\n",
        "\n",
        "        x = self.cnn1(x)\n",
        "        x = torch.relu(x)\n",
        "        x = self.maxpool1(x)\n",
        "        x = self.cnn2(x)\n",
        "        x = torch.relu(x)\n",
        "        x = self.maxpool2(x)\n",
        "        x = x.view(x.size(0), -1) # Flattering the image to a vector shape\n",
        "        x = self.fc1(x)\n",
        "\n",
        "        return x\n",
        "\n",
        "# Create the model object using CNN class\n",
        "model = CNN(out_1=100, out_2=50).to(device)"
      ]
    },
    {
      "cell_type": "code",
      "source": [
        "class DNN(nn.Module):\n",
        "    #Constructor\n",
        "    def __init__(self, d_in,hidden_layer1,hidden_layer2, d_out, p=0 ):\n",
        "\n",
        "        '''\n",
        "        d_in : Input size of image\n",
        "        d_out : Number of classes\n",
        "        p = Drop out probility\n",
        "        '''\n",
        "        super(DNN, self).__init__()\n",
        "        self.linear1 = nn.Linear(d_in,hidden_layer1)\n",
        "        self.linear2 = nn.Linear(hidden_layer1, hidden_layer2)\n",
        "        self.linear3 = nn.Linear(hidden_layer2, d_out)\n",
        "        self.drop = nn.Dropout(p=p)\n",
        "\n",
        "    #Prediction\n",
        "    def forward(self, x):\n",
        "        '''\n",
        "        x : input images or batch of images as tensor\n",
        "        take x as an input and predict the x vector\n",
        "        '''\n",
        "        x = x.view(-1, self.linear1.in_features)\n",
        "\n",
        "        x = self.linear1(x)\n",
        "        x = torch.relu(x)\n",
        "        x = self.drop(x)\n",
        "\n",
        "        x = self.linear2(x)\n",
        "        x = torch.relu(x)\n",
        "        x = self.drop(x)\n",
        "\n",
        "        x = self.linear3(x)\n",
        "\n",
        "        return x\n",
        "\n",
        "# Create the model object using DNN class\n",
        "model = DNN(d_in=(image_size*image_size), hidden_layer1=200, hidden_layer2=90, d_out=10, p=0.3).to(device)"
      ],
      "metadata": {
        "id": "4Jopc-Pr21ys"
      },
      "id": "4Jopc-Pr21ys",
      "execution_count": 187,
      "outputs": []
    },
    {
      "cell_type": "code",
      "execution_count": 188,
      "id": "6e686052",
      "metadata": {
        "id": "6e686052"
      },
      "outputs": [],
      "source": [
        "lr = 0.001 # Learning rate\n",
        "epochs = 15\n",
        "criterion = nn.CrossEntropyLoss()\n",
        "optimizer = torch.optim.Adam(model.parameters(), lr)"
      ]
    },
    {
      "cell_type": "code",
      "execution_count": 189,
      "id": "e4c62dfb",
      "metadata": {
        "id": "e4c62dfb"
      },
      "outputs": [],
      "source": [
        "train_loader = torch.utils.data.DataLoader(dataset = train_dataset, batch_size=2000, shuffle=True)\n",
        "validation_loader = torch.utils.data.DataLoader(dataset=validation_dataset, batch_size=5000)"
      ]
    },
    {
      "cell_type": "code",
      "execution_count": 190,
      "id": "88b12710",
      "metadata": {
        "id": "88b12710"
      },
      "outputs": [],
      "source": [
        "# Train the model\n",
        "\n",
        "def train(model, train_loader, validation_loader, optimizer, criterion, epochs):\n",
        "\n",
        "    accuracy_list= []\n",
        "    cost_list = []\n",
        "    N_test = len(validation_dataset)\n",
        "    for epoch in range(epochs):\n",
        "\n",
        "        total = 0\n",
        "        model.train()\n",
        "        for x,y in train_loader:\n",
        "          x , y = x.to(device), y.to(device)\n",
        "          yhat = model(x)\n",
        "          loss = criterion(yhat, y)\n",
        "          optimizer.zero_grad()\n",
        "          loss.backward()\n",
        "          optimizer.step()\n",
        "          total += loss.item()\n",
        "        cost_list.append(total)\n",
        "\n",
        "\n",
        "\n",
        "        correct = 0\n",
        "        accuracy = 0\n",
        "        for x_test, y_test in validation_loader:\n",
        "            model.eval()\n",
        "            x_test , y_test = x_test.to(device), y_test.to(device)\n",
        "            yhat = model(x_test)\n",
        "            _, label = torch.max(yhat, 1)\n",
        "            correct += (label == y_test).sum().item()\n",
        "        accuracy = 100 * (correct / N_test)\n",
        "        accuracy_list.append(accuracy)\n",
        "        print(f\"\\nEpoch -> {epoch} Training Epoch Cost: {total}, val acc: {accuracy}\")\n",
        "\n",
        "    return cost_list, accuracy_list"
      ]
    },
    {
      "cell_type": "code",
      "source": [
        "cost_list, accuracy_list= train(model, train_loader, validation_loader, optimizer, criterion, epochs)"
      ],
      "metadata": {
        "colab": {
          "base_uri": "https://localhost:8080/"
        },
        "id": "NIQe0udj7pMS",
        "outputId": "42eb2137-fed7-4232-90cb-e965a6ea2736"
      },
      "id": "NIQe0udj7pMS",
      "execution_count": 192,
      "outputs": [
        {
          "output_type": "stream",
          "name": "stdout",
          "text": [
            "\n",
            "Epoch -> 0 Training Epoch Cost: 42.67803996801376, val acc: 69.73\n",
            "\n",
            "Epoch -> 1 Training Epoch Cost: 22.188792765140533, val acc: 78.19\n",
            "\n",
            "Epoch -> 2 Training Epoch Cost: 17.917940139770508, val acc: 81.31\n",
            "\n",
            "Epoch -> 3 Training Epoch Cost: 15.947110950946808, val acc: 82.85\n",
            "\n",
            "Epoch -> 4 Training Epoch Cost: 14.68529748916626, val acc: 83.63000000000001\n",
            "\n",
            "Epoch -> 5 Training Epoch Cost: 13.755765318870544, val acc: 84.42\n",
            "\n",
            "Epoch -> 6 Training Epoch Cost: 13.138101905584335, val acc: 85.05\n",
            "\n",
            "Epoch -> 7 Training Epoch Cost: 12.571461915969849, val acc: 85.09\n",
            "\n",
            "Epoch -> 8 Training Epoch Cost: 12.047830194234848, val acc: 85.78\n",
            "\n",
            "Epoch -> 9 Training Epoch Cost: 11.719003587961197, val acc: 86.17\n",
            "\n",
            "Epoch -> 10 Training Epoch Cost: 11.521263360977173, val acc: 86.4\n",
            "\n",
            "Epoch -> 11 Training Epoch Cost: 11.18019637465477, val acc: 86.69\n",
            "\n",
            "Epoch -> 12 Training Epoch Cost: 11.092058211565018, val acc: 86.68\n",
            "\n",
            "Epoch -> 13 Training Epoch Cost: 10.699379116296768, val acc: 87.06\n",
            "\n",
            "Epoch -> 14 Training Epoch Cost: 10.571956813335419, val acc: 87.24\n"
          ]
        }
      ]
    },
    {
      "cell_type": "code",
      "execution_count": 193,
      "id": "dbf77558",
      "metadata": {
        "colab": {
          "base_uri": "https://localhost:8080/",
          "height": 487
        },
        "id": "dbf77558",
        "outputId": "2d07cbd6-e96f-467f-95a4-8dd695f2b53d"
      },
      "outputs": [
        {
          "output_type": "display_data",
          "data": {
            "text/plain": [
              "<Figure size 640x480 with 2 Axes>"
            ],
            "image/png": "[encoded data removed]"
          },
          "metadata": {}
        }
      ],
      "source": [
        "fig, ax1 = plt.subplots()\n",
        "color = 'tab:red'\n",
        "ax1.plot(cost_list, color=color)\n",
        "ax1.set_xlabel('epoch', color=color)\n",
        "ax1.set_ylabel('Cost', color=color)\n",
        "ax1.tick_params(axis='y', color=color)\n",
        "\n",
        "ax2 = ax1.twinx()\n",
        "color = 'tab:blue'\n",
        "ax2.set_ylabel('accuracy', color=color)\n",
        "ax2.set_xlabel('epoch', color=color)\n",
        "ax2.plot( accuracy_list, color=color)\n",
        "ax2.tick_params(axis='y', color=color)\n",
        "fig.tight_layout()"
      ]
    },
    {
      "cell_type": "markdown",
      "source": [
        "## Label Encoding\n",
        "0. T-shirt/top\n",
        "1. Trouser\n",
        "2. Pullover\n",
        "3. Dress\n",
        "4. Coat\n",
        "5. Sandal\n",
        "6. Shirt\n",
        "7. Sneaker\n",
        "8. Bag\n",
        "9. Ankle boot"
      ],
      "metadata": {
        "id": "sfyp6NeQUtTL"
      },
      "id": "sfyp6NeQUtTL"
    },
    {
      "cell_type": "code",
      "source": [
        "# Validating the prediction just for Fun\n",
        "index = 5080\n",
        "pred = model(train_dataset[index][0].to(device))\n",
        "_, label = torch.max(pred, 1)\n",
        "print(f\"Prediction: {label}\")\n",
        "\n",
        "# Display input image\n",
        "show_image(train_dataset[index])"
      ],
      "metadata": {
        "colab": {
          "base_uri": "https://localhost:8080/",
          "height": 470
        },
        "id": "N0s6jWGMSbqG",
        "outputId": "0688640f-46d6-43d5-d08c-3519890af653"
      },
      "id": "N0s6jWGMSbqG",
      "execution_count": 219,
      "outputs": [
        {
          "output_type": "stream",
          "name": "stdout",
          "text": [
            "Prediction: tensor([8], device='cuda:0')\n"
          ]
        },
        {
          "output_type": "display_data",
          "data": {
            "text/plain": [
              "<Figure size 640x480 with 1 Axes>"
            ],
            "image/png": "[encoded data removed]"
          },
          "metadata": {}
        }
      ]
    },
    {
      "cell_type": "code",
      "source": [
        "# Validating the prediction just for Fun\n",
        "index = 410\n",
        "pred = model(train_dataset[index][0].to(device))\n",
        "_, label = torch.max(pred, 1)\n",
        "print(f\"Prediction: {label}\")\n",
        "\n",
        "# Display input image\n",
        "show_image(train_dataset[index])"
      ],
      "metadata": {
        "colab": {
          "base_uri": "https://localhost:8080/",
          "height": 470
        },
        "id": "BrezN8hoS__u",
        "outputId": "e1b11a9a-386a-45d7-db75-2c89d6ed2f3e"
      },
      "id": "BrezN8hoS__u",
      "execution_count": 221,
      "outputs": [
        {
          "output_type": "stream",
          "name": "stdout",
          "text": [
            "Prediction: tensor([6], device='cuda:0')\n"
          ]
        },
        {
          "output_type": "display_data",
          "data": {
            "text/plain": [
              "<Figure size 640x480 with 1 Axes>"
            ],
            "image/png": "[encoded data removed]"
          },
          "metadata": {}
        }
      ]
    },
    {
      "cell_type": "code",
      "source": [],
      "metadata": {
        "id": "h7a7gNW6V8SV"
      },
      "id": "h7a7gNW6V8SV",
      "execution_count": null,
      "outputs": []
    }
  ],
  "metadata": {
    "kernelspec": {
      "display_name": "Python 3",
      "name": "python3"
    },
    "language_info": {
      "codemirror_mode": {
        "name": "ipython",
        "version": 3
      },
      "file_extension": ".py",
      "mimetype": "text/x-python",
      "name": "python",
      "nbconvert_exporter": "python",
      "pygments_lexer": "ipython3",
      "version": "3.9.13"
    },
    "colab": {
      "provenance": [],
      "gpuType": "T4"
    },
    "accelerator": "GPU"
  },
  "nbformat": 4,
  "nbformat_minor": 5
}